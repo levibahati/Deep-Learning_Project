{
 "cells": [
  {
   "cell_type": "code",
   "execution_count": 2,
   "id": "bc120f57",
   "metadata": {},
   "outputs": [],
   "source": [
    "import tensorflow as tf\n",
    "from tensorflow.keras.datasets import fashion_mnist\n",
    "from tensorflow.keras.utils import to_categorical"
   ]
  },
  {
   "cell_type": "markdown",
   "id": "c9087fef",
   "metadata": {},
   "source": [
    "#### Load the fashion MNIST dataset"
   ]
  },
  {
   "cell_type": "code",
   "execution_count": 3,
   "id": "96b689e9",
   "metadata": {
    "scrolled": true
   },
   "outputs": [
    {
     "name": "stdout",
     "output_type": "stream",
     "text": [
      "Downloading data from https://storage.googleapis.com/tensorflow/tf-keras-datasets/train-labels-idx1-ubyte.gz\n",
      "29515/29515 [==============================] - 1s 20us/step\n",
      "Downloading data from https://storage.googleapis.com/tensorflow/tf-keras-datasets/train-images-idx3-ubyte.gz\n",
      "26421880/26421880 [==============================] - 2301s 87us/step\n",
      "Downloading data from https://storage.googleapis.com/tensorflow/tf-keras-datasets/t10k-labels-idx1-ubyte.gz\n",
      "5148/5148 [==============================] - 0s 0s/step\n",
      "Downloading data from https://storage.googleapis.com/tensorflow/tf-keras-datasets/t10k-images-idx3-ubyte.gz\n",
      "4422102/4422102 [==============================] - 354s 80us/step\n"
     ]
    }
   ],
   "source": [
    "(train_images, train_labels), (test_images, test_labels) = fashion_mnist.load_data()"
   ]
  },
  {
   "cell_type": "markdown",
   "id": "7c46920f",
   "metadata": {},
   "source": [
    "#### Normalize the image data to range between 0 and 1"
   ]
  },
  {
   "cell_type": "code",
   "execution_count": 5,
   "id": "524160b1",
   "metadata": {},
   "outputs": [],
   "source": [
    "train_images = train_images/255.0\n",
    "test_images = test_images/255.0"
   ]
  },
  {
   "cell_type": "markdown",
   "id": "f4128800",
   "metadata": {},
   "source": [
    "#### Reshape the data to fit the model input requirements"
   ]
  },
  {
   "cell_type": "code",
   "execution_count": 6,
   "id": "d5789917",
   "metadata": {},
   "outputs": [],
   "source": [
    "train_images = train_images.reshape((train_images.shape[0], 28, 28, 1))\n",
    "test_images = test_images.reshape((test_images.shape[0], 28, 28, 1))"
   ]
  },
  {
   "cell_type": "markdown",
   "id": "cf08f8ef",
   "metadata": {},
   "source": [
    "#### Convert the labels into one-hot vectors"
   ]
  },
  {
   "cell_type": "code",
   "execution_count": 7,
   "id": "a7cb957e",
   "metadata": {},
   "outputs": [],
   "source": [
    "train_labels = to_categorical(train_labels)\n",
    "test_labels = to_categorical(test_labels)"
   ]
  },
  {
   "cell_type": "markdown",
   "id": "35b2d9f1",
   "metadata": {},
   "source": [
    "## Model Development"
   ]
  },
  {
   "cell_type": "code",
   "execution_count": 8,
   "id": "eb1584f2",
   "metadata": {},
   "outputs": [],
   "source": [
    "from tensorflow.keras.models import Sequential\n",
    "from tensorflow.keras.layers import Conv2D, MaxPooling2D, Flatten, Dense"
   ]
  },
  {
   "cell_type": "markdown",
   "id": "dc0cd8a9",
   "metadata": {},
   "source": [
    "#### Designing a CNN"
   ]
  },
  {
   "cell_type": "code",
   "execution_count": 9,
   "id": "c4aa8aec",
   "metadata": {},
   "outputs": [],
   "source": [
    "model = Sequential([\n",
    "    Conv2D(32,(3,3), activation='relu', input_shape=(28, 28,1)),\n",
    "    MaxPooling2D((2,2)),\n",
    "    Conv2D(64,(3,3), activation='relu'),\n",
    "    MaxPooling2D((2,2)),\n",
    "    Conv2D(64, (3,3), activation='relu'),\n",
    "    Flatten(),\n",
    "    Dense(64, activation='relu'),\n",
    "    Dense(10, activation='softmax')\n",
    "])"
   ]
  },
  {
   "cell_type": "markdown",
   "id": "84269885",
   "metadata": {},
   "source": [
    "## Model Training"
   ]
  },
  {
   "cell_type": "markdown",
   "id": "72071b0a",
   "metadata": {},
   "source": [
    "#### Compiling the model"
   ]
  },
  {
   "cell_type": "code",
   "execution_count": 10,
   "id": "572c33fd",
   "metadata": {},
   "outputs": [],
   "source": [
    "model.compile(optimizer='adam',\n",
    "              loss='categorical_crossentropy',\n",
    "              metrics=['accuracy'])"
   ]
  },
  {
   "cell_type": "markdown",
   "id": "7b2bd984",
   "metadata": {},
   "source": [
    "#### Train the model on the training data"
   ]
  },
  {
   "cell_type": "code",
   "execution_count": 11,
   "id": "d26e597d",
   "metadata": {},
   "outputs": [
    {
     "name": "stdout",
     "output_type": "stream",
     "text": [
      "Epoch 1/10\n",
      "750/750 [==============================] - 57s 70ms/step - loss: 0.5754 - accuracy: 0.7898 - val_loss: 0.4057 - val_accuracy: 0.8570\n",
      "Epoch 2/10\n",
      "750/750 [==============================] - 51s 69ms/step - loss: 0.3602 - accuracy: 0.8699 - val_loss: 0.3480 - val_accuracy: 0.8766\n",
      "Epoch 3/10\n",
      "750/750 [==============================] - 51s 68ms/step - loss: 0.3031 - accuracy: 0.8887 - val_loss: 0.3232 - val_accuracy: 0.8828\n",
      "Epoch 4/10\n",
      "750/750 [==============================] - 50s 67ms/step - loss: 0.2740 - accuracy: 0.9002 - val_loss: 0.2915 - val_accuracy: 0.8932\n",
      "Epoch 5/10\n",
      "750/750 [==============================] - 50s 66ms/step - loss: 0.2480 - accuracy: 0.9081 - val_loss: 0.2941 - val_accuracy: 0.8944\n",
      "Epoch 6/10\n",
      "750/750 [==============================] - 51s 68ms/step - loss: 0.2326 - accuracy: 0.9144 - val_loss: 0.2747 - val_accuracy: 0.8985\n",
      "Epoch 7/10\n",
      "750/750 [==============================] - 51s 68ms/step - loss: 0.2126 - accuracy: 0.9226 - val_loss: 0.2666 - val_accuracy: 0.9043\n",
      "Epoch 8/10\n",
      "750/750 [==============================] - 51s 68ms/step - loss: 0.1980 - accuracy: 0.9280 - val_loss: 0.2657 - val_accuracy: 0.9048\n",
      "Epoch 9/10\n",
      "750/750 [==============================] - 51s 67ms/step - loss: 0.1839 - accuracy: 0.9332 - val_loss: 0.2585 - val_accuracy: 0.9084\n",
      "Epoch 10/10\n",
      "750/750 [==============================] - 50s 67ms/step - loss: 0.1674 - accuracy: 0.9385 - val_loss: 0.2485 - val_accuracy: 0.9092\n"
     ]
    }
   ],
   "source": [
    "history=model.fit(train_images, train_labels, epochs=10, batch_size=64, validation_split=0.2)"
   ]
  },
  {
   "cell_type": "markdown",
   "id": "cbbc0bc1",
   "metadata": {},
   "source": [
    "## Evaluation and analysis"
   ]
  },
  {
   "cell_type": "code",
   "execution_count": 12,
   "id": "27c53ac8",
   "metadata": {},
   "outputs": [],
   "source": [
    "import matplotlib.pyplot as plt"
   ]
  },
  {
   "cell_type": "markdown",
   "id": "9459305b",
   "metadata": {},
   "source": [
    "#### Evaluate the models performance on the test dataset"
   ]
  },
  {
   "cell_type": "code",
   "execution_count": 13,
   "id": "7f796f72",
   "metadata": {},
   "outputs": [
    {
     "name": "stdout",
     "output_type": "stream",
     "text": [
      "313/313 [==============================] - 4s 13ms/step - loss: 0.2758 - accuracy: 0.9037\n"
     ]
    }
   ],
   "source": [
    "test_loss, test_accuracy=model.evaluate(test_images, test_labels)"
   ]
  },
  {
   "cell_type": "markdown",
   "id": "968fc48e",
   "metadata": {},
   "source": [
    "#### Plot the training and validation accuracy and loss over epochs"
   ]
  },
  {
   "cell_type": "code",
   "execution_count": 14,
   "id": "1a295404",
   "metadata": {},
   "outputs": [
    {
     "data": {
      "image/png": "[encoded data removed]",
      "text/plain": [
       "<Figure size 432x288 with 1 Axes>"
      ]
     },
     "metadata": {
      "needs_background": "light"
     },
     "output_type": "display_data"
    },
    {
     "data": {
      "image/png": "[encoded data removed]",
      "text/plain": [
       "<Figure size 432x288 with 1 Axes>"
      ]
     },
     "metadata": {
      "needs_background": "light"
     },
     "output_type": "display_data"
    }
   ],
   "source": [
    "plt.plot(history.history['accuracy'], label='Training Accuracy')\n",
    "plt.plot(history.history['val_accuracy'], label='Validation Accuracy')\n",
    "plt.xlabel('Epoch')\n",
    "plt.ylabel('Accuracy')\n",
    "plt.legend()\n",
    "plt.show()\n",
    "\n",
    "plt.plot(history.history['loss'], label='Training Loss')\n",
    "plt.plot(history.history['val_loss'],label='Validation Loss')\n",
    "plt.xlabel('Epoch')\n",
    "plt.ylabel('Loss')\n",
    "plt.legend()\n",
    "plt.show()\n",
    "\n"
   ]
  },
  {
   "cell_type": "code",
   "execution_count": 15,
   "id": "d2d4c7bc",
   "metadata": {},
   "outputs": [
    {
     "name": "stdout",
     "output_type": "stream",
     "text": [
      "313/313 [==============================] - 4s 12ms/step\n"
     ]
    },
    {
     "data": {
      "image/png": "[encoded data removed]",
      "text/plain": [
       "<Figure size 720x360 with 10 Axes>"
      ]
     },
     "metadata": {
      "needs_background": "light"
     },
     "output_type": "display_data"
    }
   ],
   "source": [
    "predictions = model.predict(test_images)\n",
    "predicted_labels = tf.argmax(predictions, axis=1)\n",
    "actual_labels = tf.argmax(test_labels, axis=1)\n",
    "\n",
    "sample_images=test_images[:10]\n",
    "sample_predicted_labels=predicted_labels[:10]\n",
    "sample_actual_labels=actual_labels[:10]\n",
    "\n",
    "plt.figure(figsize=(10,5))\n",
    "for i in range(10):\n",
    "  plt.subplot(2,5, i+1)\n",
    "  plt.imshow(sample_images[i].reshape(28, 28), cmap='gray')\n",
    "  plt.title(f\"Predicted:{sample_predicted_labels[i]}, Actual:{sample_actual_labels[i]}\")\n",
    "  plt.axis('off')\n",
    "\n",
    "plt.show()"
   ]
  },
  {
   "cell_type": "code",
   "execution_count": null,
   "id": "9d06ad3c",
   "metadata": {},
   "outputs": [],
   "source": []
  }
 ],
 "metadata": {
  "kernelspec": {
   "display_name": "Python 3 (ipykernel)",
   "language": "python",
   "name": "python3"
  },
  "language_info": {
   "codemirror_mode": {
    "name": "ipython",
    "version": 3
   },
   "file_extension": ".py",
   "mimetype": "text/x-python",
   "name": "python",
   "nbconvert_exporter": "python",
   "pygments_lexer": "ipython3",
   "version": "3.9.7"
  }
 },
 "nbformat": 4,
 "nbformat_minor": 5
}
